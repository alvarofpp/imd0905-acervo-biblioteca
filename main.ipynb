{
 "cells": [
  {
   "cell_type": "markdown",
   "metadata": {},
   "source": [
    "# Análise dos dados de acervo das bibliotecas da UFRN"
   ]
  },
  {
   "cell_type": "code",
   "execution_count": 26,
   "metadata": {},
   "outputs": [],
   "source": [
    "import re\n",
    "import pandas as pd\n",
    "import numpy as np\n",
    "from os import listdir\n",
    "import matplotlib.pyplot as plt"
   ]
  },
  {
   "cell_type": "markdown",
   "metadata": {},
   "source": [
    "## Junção dos datasets"
   ]
  },
  {
   "cell_type": "code",
   "execution_count": 2,
   "metadata": {},
   "outputs": [
    {
     "name": "stdout",
     "output_type": "stream",
     "text": [
      "{'discentes': ['discentes-2012.csv', 'discentes-2017.csv', 'discentes-2013.csv', 'discentes-2010.csv', 'discentes-2018.csv', 'discentes-2014.csv', 'discentes-2015.csv', 'discentes-2016.csv', 'discentes-2009.csv', 'discentes-2011.csv'], 'emprestimos': ['emprestimos-20111.csv', 'emprestimos-20172.csv', 'emprestimos-20021.csv', 'emprestimos-20012.csv', 'emprestimos-20141.csv', 'emprestimos-20081.csv', 'emprestimos-20132.csv', 'emprestimos-20152.csv', 'emprestimos-20061.csv', 'emprestimos-20131.csv', 'emprestimos-20042.csv', 'emprestimos-20091.csv', 'emprestimos-20162.csv', 'emprestimos-20051.csv', 'emprestimos-20002.csv', 'emprestimos-20022.csv', 'emprestimos-20161.csv', 'emprestimos-20121.csv', 'emprestimos-20071.csv', 'emprestimos-20151.csv', 'emprestimos-20122.csv', 'emprestimos-20092.csv', 'emprestimos-20052.csv', 'emprestimos-20171.csv', 'emprestimos-20031.csv', 'emprestimos-20142.csv', 'emprestimos-20112.csv', 'emprestimos-20101.csv', 'emprestimos-20032.csv', 'emprestimos-20062.csv', 'emprestimos-20041.csv', 'emprestimos-20082.csv', 'emprestimos-20011.csv', 'emprestimos-20102.csv', 'emprestimos-20072.csv']}\n"
     ]
    }
   ],
   "source": [
    "# Arquivos da pasta de datasets\n",
    "files = listdir('data')\n",
    "# Regex para cada tipo de dataset que possui vários arquivos\n",
    "regex = {\n",
    "    'discentes': re.compile(r'discentes-20[0-9]{2}'),\n",
    "    'emprestimos': re.compile(r'emprestimos-20[0-9]{3}'),\n",
    "}\n",
    "# Filtros aplicados, lista de arquivos que satisfazem os regex\n",
    "files_filter = {\n",
    "    'discentes': list(filter(regex['discentes'].search, files)),\n",
    "    'emprestimos': list(filter(regex['emprestimos'].search, files)),\n",
    "}\n",
    "# Mostra ambas as listas de arquivos\n",
    "print(files_filter)"
   ]
  },
  {
   "cell_type": "code",
   "execution_count": 3,
   "metadata": {},
   "outputs": [],
   "source": [
    "def make_df(filenames):\n",
    "    '''Pega uma lista de arquivos e retorna um único dataframe gerado.'''\n",
    "    # Lista de dataframes\n",
    "    dfs = [pd.read_csv('data/'+filename, sep=';') for filename in filenames]\n",
    "    # Concatena todos os dataframes em um só\n",
    "    return pd.concat(dfs, ignore_index=True)\n",
    "\n",
    "# Variável com os dataframes que iremos usar\n",
    "dfs = {\n",
    "    'discentes': make_df(files_filter['discentes']),\n",
    "    'emprestimos': make_df(files_filter['emprestimos']),\n",
    "    'cursos': pd.read_csv('data/cursos-ufrn.csv', sep=';'),\n",
    "    'exemplares': pd.read_csv('data/exemplares.csv', sep=';')\n",
    "}"
   ]
  },
  {
   "cell_type": "code",
   "execution_count": 8,
   "metadata": {},
   "outputs": [],
   "source": [
    "dfs['emprestimos']['data_emprestimo'] = pd.to_datetime(dfs['emprestimos']['data_emprestimo'])"
   ]
  },
  {
   "cell_type": "code",
   "execution_count": 15,
   "metadata": {},
   "outputs": [
    {
     "name": "stdout",
     "output_type": "stream",
     "text": [
      "<class 'pandas.core.frame.DataFrame'>\n",
      "RangeIndex: 2558703 entries, 0 to 2558702\n",
      "Data columns (total 8 columns):\n",
      "id_emprestimo           int64\n",
      "codigo_barras           object\n",
      "data_renovacao          object\n",
      "data_emprestimo         datetime64[ns]\n",
      "data_devolucao          object\n",
      "nome_usuario            object\n",
      "id_vinculo_usuario      float64\n",
      "tipo_vinculo_usuario    object\n",
      "dtypes: datetime64[ns](1), float64(1), int64(1), object(5)\n",
      "memory usage: 156.2+ MB\n"
     ]
    }
   ],
   "source": [
    "dfs['emprestimos'].info()"
   ]
  },
  {
   "cell_type": "code",
   "execution_count": 10,
   "metadata": {},
   "outputs": [
    {
     "data": {
      "text/html": [
       "<div>\n",
       "<style scoped>\n",
       "    .dataframe tbody tr th:only-of-type {\n",
       "        vertical-align: middle;\n",
       "    }\n",
       "\n",
       "    .dataframe tbody tr th {\n",
       "        vertical-align: top;\n",
       "    }\n",
       "\n",
       "    .dataframe thead th {\n",
       "        text-align: right;\n",
       "    }\n",
       "</style>\n",
       "<table border=\"1\" class=\"dataframe\">\n",
       "  <thead>\n",
       "    <tr style=\"text-align: right;\">\n",
       "      <th></th>\n",
       "      <th>id_emprestimo</th>\n",
       "      <th>codigo_barras</th>\n",
       "      <th>data_renovacao</th>\n",
       "      <th>data_emprestimo</th>\n",
       "      <th>data_devolucao</th>\n",
       "      <th>nome_usuario</th>\n",
       "      <th>id_vinculo_usuario</th>\n",
       "      <th>tipo_vinculo_usuario</th>\n",
       "    </tr>\n",
       "  </thead>\n",
       "  <tbody>\n",
       "    <tr>\n",
       "      <th>0</th>\n",
       "      <td>920246</td>\n",
       "      <td>Y019450</td>\n",
       "      <td>NaN</td>\n",
       "      <td>2011-01-03 08:08:18.986</td>\n",
       "      <td>2011-01-14 08:36:10</td>\n",
       "      <td>EDMILSON BEZERRA DA SILVA</td>\n",
       "      <td>533189.0</td>\n",
       "      <td>ALUNO DE GRADUAÇÃO</td>\n",
       "    </tr>\n",
       "    <tr>\n",
       "      <th>1</th>\n",
       "      <td>920247</td>\n",
       "      <td>Y020420</td>\n",
       "      <td>NaN</td>\n",
       "      <td>2011-01-03 08:08:19.077</td>\n",
       "      <td>2011-01-14 08:36:27</td>\n",
       "      <td>EDMILSON BEZERRA DA SILVA</td>\n",
       "      <td>533189.0</td>\n",
       "      <td>ALUNO DE GRADUAÇÃO</td>\n",
       "    </tr>\n",
       "    <tr>\n",
       "      <th>2</th>\n",
       "      <td>920248</td>\n",
       "      <td>S020100</td>\n",
       "      <td>2011-01-17 23:31:17.992</td>\n",
       "      <td>2011-01-03 08:48:20.360</td>\n",
       "      <td>2011-01-18 12:37:26</td>\n",
       "      <td>CARLOS LEONARDO MACIEL DE ARAUJO</td>\n",
       "      <td>5751844.0</td>\n",
       "      <td>SERVIDOR TÉCNICO-ADMINISTRATIVO</td>\n",
       "    </tr>\n",
       "    <tr>\n",
       "      <th>3</th>\n",
       "      <td>920249</td>\n",
       "      <td>S024844</td>\n",
       "      <td>2011-01-17 23:31:17.944</td>\n",
       "      <td>2011-01-03 08:48:20.433</td>\n",
       "      <td>2011-02-07 17:46:44</td>\n",
       "      <td>CARLOS LEONARDO MACIEL DE ARAUJO</td>\n",
       "      <td>5751844.0</td>\n",
       "      <td>SERVIDOR TÉCNICO-ADMINISTRATIVO</td>\n",
       "    </tr>\n",
       "    <tr>\n",
       "      <th>4</th>\n",
       "      <td>920250</td>\n",
       "      <td>S026026</td>\n",
       "      <td>2011-01-17 23:31:17.915</td>\n",
       "      <td>2011-01-03 08:48:20.483</td>\n",
       "      <td>2011-01-18 12:37:43</td>\n",
       "      <td>CARLOS LEONARDO MACIEL DE ARAUJO</td>\n",
       "      <td>5751844.0</td>\n",
       "      <td>SERVIDOR TÉCNICO-ADMINISTRATIVO</td>\n",
       "    </tr>\n",
       "  </tbody>\n",
       "</table>\n",
       "</div>"
      ],
      "text/plain": [
       "   id_emprestimo codigo_barras           data_renovacao  \\\n",
       "0         920246       Y019450                      NaN   \n",
       "1         920247       Y020420                      NaN   \n",
       "2         920248       S020100  2011-01-17 23:31:17.992   \n",
       "3         920249       S024844  2011-01-17 23:31:17.944   \n",
       "4         920250       S026026  2011-01-17 23:31:17.915   \n",
       "\n",
       "          data_emprestimo       data_devolucao  \\\n",
       "0 2011-01-03 08:08:18.986  2011-01-14 08:36:10   \n",
       "1 2011-01-03 08:08:19.077  2011-01-14 08:36:27   \n",
       "2 2011-01-03 08:48:20.360  2011-01-18 12:37:26   \n",
       "3 2011-01-03 08:48:20.433  2011-02-07 17:46:44   \n",
       "4 2011-01-03 08:48:20.483  2011-01-18 12:37:43   \n",
       "\n",
       "                       nome_usuario  id_vinculo_usuario  \\\n",
       "0         EDMILSON BEZERRA DA SILVA            533189.0   \n",
       "1         EDMILSON BEZERRA DA SILVA            533189.0   \n",
       "2  CARLOS LEONARDO MACIEL DE ARAUJO           5751844.0   \n",
       "3  CARLOS LEONARDO MACIEL DE ARAUJO           5751844.0   \n",
       "4  CARLOS LEONARDO MACIEL DE ARAUJO           5751844.0   \n",
       "\n",
       "              tipo_vinculo_usuario  \n",
       "0               ALUNO DE GRADUAÇÃO  \n",
       "1               ALUNO DE GRADUAÇÃO  \n",
       "2  SERVIDOR TÉCNICO-ADMINISTRATIVO  \n",
       "3  SERVIDOR TÉCNICO-ADMINISTRATIVO  \n",
       "4  SERVIDOR TÉCNICO-ADMINISTRATIVO  "
      ]
     },
     "execution_count": 10,
     "metadata": {},
     "output_type": "execute_result"
    }
   ],
   "source": [
    "dfs['emprestimos'].head()"
   ]
  },
  {
   "cell_type": "code",
   "execution_count": 61,
   "metadata": {},
   "outputs": [],
   "source": [
    "# Coluna do mês do emprestimo\n",
    "dfs['emprestimos']['mes_emprestimo'] = dfs['emprestimos']['data_emprestimo'].dt.month\n",
    "# Contagem de emprestimos por mês\n",
    "mes_count = dfs['emprestimos'].groupby('mes_emprestimo')['id_emprestimo'].count()\n",
    "# Labels de cada mês\n",
    "labels = [\n",
    "    'Janeiro', 'Fevereiro', 'Março', 'Abril',\n",
    "    'Maio', 'Junho', 'Julho', 'Agosto',\n",
    "    'Setembro', 'Outubro', 'Novembro', 'Dezembro'\n",
    "]"
   ]
  },
  {
   "cell_type": "code",
   "execution_count": 62,
   "metadata": {},
   "outputs": [
    {
     "data": {
      "image/png": "[encoded data removed]",
      "text/plain": [
       "<Figure size 1080x576 with 1 Axes>"
      ]
     },
     "metadata": {
      "needs_background": "light"
     },
     "output_type": "display_data"
    }
   ],
   "source": [
    "# Definimos o tamanho da figura que terá o gráfico\n",
    "plt.figure(figsize=(15,8))\n",
    "\n",
    "# Barra dos que possuem o auxílio\n",
    "plt.bar(mes_count.keys(), mes_count.values, alpha=0.4, color='b')\n",
    "\n",
    "# Valores\n",
    "for index, value in enumerate(mes_count):\n",
    "    plt.text((index+0.68), (value+1000), str(value), color='blue', fontweight='bold')\n",
    "    \n",
    "# Demais configurações do gráfico\n",
    "plt.xlabel('Mês do ano')\n",
    "plt.ylabel('Quantidade de empréstimos')\n",
    "plt.title('Empréstimos de livros por mês')\n",
    "plt.xticks(list(mes_count.keys()), labels)\n",
    "\n",
    "# Exibimos todos os gráficos de uma só vez\n",
    "plt.show()"
   ]
  },
  {
   "cell_type": "code",
   "execution_count": null,
   "metadata": {},
   "outputs": [],
   "source": []
  }
 ],
 "metadata": {
  "kernelspec": {
   "display_name": "Python 3",
   "language": "python",
   "name": "python3"
  },
  "language_info": {
   "codemirror_mode": {
    "name": "ipython",
    "version": 3
   },
   "file_extension": ".py",
   "mimetype": "text/x-python",
   "name": "python",
   "nbconvert_exporter": "python",
   "pygments_lexer": "ipython3",
   "version": "3.7.0"
  }
 },
 "nbformat": 4,
 "nbformat_minor": 2
}
