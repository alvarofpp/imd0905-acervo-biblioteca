{
 "cells": [
  {
   "cell_type": "markdown",
   "metadata": {},
   "source": [
    "# Análise dos dados de acervo das bibliotecas da UFRN"
   ]
  },
  {
   "cell_type": "code",
   "execution_count": 1,
   "metadata": {},
   "outputs": [],
   "source": [
    "import re\n",
    "import pandas as pd\n",
    "from os import listdir"
   ]
  },
  {
   "cell_type": "markdown",
   "metadata": {},
   "source": [
    "## Junção dos datasets"
   ]
  },
  {
   "cell_type": "code",
   "execution_count": 27,
   "metadata": {},
   "outputs": [],
   "source": [
    "# Variável com os dataframes que iremos usar\n",
    "dfs = {\n",
    "    'discentes': None,\n",
    "    'emprestimos': None,\n",
    "    'cursos': pd.read_csv('data/cursos-ufrn.csv', sep=';'),\n",
    "    'exemplares': pd.read_csv('data/exemplares.csv', sep=';')\n",
    "}"
   ]
  },
  {
   "cell_type": "code",
   "execution_count": 2,
   "metadata": {},
   "outputs": [
    {
     "name": "stdout",
     "output_type": "stream",
     "text": [
      "{'discentes': ['discentes-2012.csv', 'discentes-2017.csv', 'discentes-2013.csv', 'discentes-2010.csv', 'discentes-2018.csv', 'discentes-2014.csv', 'discentes-2015.csv', 'discentes-2016.csv', 'discentes-2009.csv', 'discentes-2011.csv'], 'emprestimos': ['emprestimos-20111.csv', 'emprestimos-20172.csv', 'emprestimos-20021.csv', 'emprestimos-20012.csv', 'emprestimos-20141.csv', 'emprestimos-20081.csv', 'emprestimos-20132.csv', 'emprestimos-20152.csv', 'emprestimos-20061.csv', 'emprestimos-20131.csv', 'emprestimos-20042.csv', 'emprestimos-20091.csv', 'emprestimos-20162.csv', 'emprestimos-20051.csv', 'emprestimos-20002.csv', 'emprestimos-20022.csv', 'emprestimos-20161.csv', 'emprestimos-20121.csv', 'emprestimos-20071.csv', 'emprestimos-20151.csv', 'emprestimos-20122.csv', 'emprestimos-20092.csv', 'emprestimos-20052.csv', 'emprestimos-20171.csv', 'emprestimos-20031.csv', 'emprestimos-20142.csv', 'emprestimos-20112.csv', 'emprestimos-20101.csv', 'emprestimos-20032.csv', 'emprestimos-20062.csv', 'emprestimos-20041.csv', 'emprestimos-20082.csv', 'emprestimos-20011.csv', 'emprestimos-20102.csv', 'emprestimos-20072.csv']}\n"
     ]
    }
   ],
   "source": [
    "# Arquivos da pasta de datasets\n",
    "files = listdir('data')\n",
    "# Regex para cada tipo de dataset que possui vários arquivos\n",
    "regex = {\n",
    "    'discentes': re.compile(r'discentes-20[0-9]{2}'),\n",
    "    'emprestimos': re.compile(r'emprestimos-20[0-9]{3}'),\n",
    "}\n",
    "# Filtros aplicados, lista de arquivos que satisfazem os regex\n",
    "files_filter = {\n",
    "    'discentes': list(filter(regex['discentes'].search, files)),\n",
    "    'emprestimos': list(filter(regex['emprestimos'].search, files)),\n",
    "}\n",
    "# Mostra ambas as listas de arquivos\n",
    "print(files_filter)"
   ]
  },
  {
   "cell_type": "code",
   "execution_count": 28,
   "metadata": {},
   "outputs": [],
   "source": [
    "def make_df(filenames):\n",
    "    '''Pega uma lista de arquivos e retorna um único dataframe gerado.'''\n",
    "    # Lista de dataframes\n",
    "    dfs = [pd.read_csv('data/'+filename, sep=';') for filename in filenames]\n",
    "    # Concatena todos os dataframes em um só\n",
    "    return pd.concat(dfs, ignore_index=True)\n",
    "\n",
    "# Junta todos os dados de discentes em um unico dataframe\n",
    "dfs['discentes'] = make_df(files_filter['discentes'])\n",
    "# O mesmo para emprestimos\n",
    "dfs['emprestimos'] = make_df(files_filter['emprestimos'])"
   ]
  },
  {
   "cell_type": "code",
   "execution_count": 30,
   "metadata": {},
   "outputs": [
    {
     "name": "stdout",
     "output_type": "stream",
     "text": [
      "<class 'pandas.core.frame.DataFrame'>\n",
      "RangeIndex: 2558703 entries, 0 to 2558702\n",
      "Data columns (total 8 columns):\n",
      "id_emprestimo           int64\n",
      "codigo_barras           object\n",
      "data_renovacao          object\n",
      "data_emprestimo         object\n",
      "data_devolucao          object\n",
      "nome_usuario            object\n",
      "id_vinculo_usuario      float64\n",
      "tipo_vinculo_usuario    object\n",
      "dtypes: float64(1), int64(1), object(6)\n",
      "memory usage: 156.2+ MB\n"
     ]
    }
   ],
   "source": [
    "dfs['emprestimos'].info()"
   ]
  },
  {
   "cell_type": "code",
   "execution_count": null,
   "metadata": {},
   "outputs": [],
   "source": []
  }
 ],
 "metadata": {
  "kernelspec": {
   "display_name": "Python 3",
   "language": "python",
   "name": "python3"
  },
  "language_info": {
   "codemirror_mode": {
    "name": "ipython",
    "version": 3
   },
   "file_extension": ".py",
   "mimetype": "text/x-python",
   "name": "python",
   "nbconvert_exporter": "python",
   "pygments_lexer": "ipython3",
   "version": "3.7.0"
  }
 },
 "nbformat": 4,
 "nbformat_minor": 2
}
