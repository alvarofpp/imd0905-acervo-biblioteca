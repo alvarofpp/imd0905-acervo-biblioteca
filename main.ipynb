{
 "cells": [
  {
   "cell_type": "markdown",
   "metadata": {},
   "source": [
    "# Análise dos dados de acervo das bibliotecas da UFRN"
   ]
  },
  {
   "cell_type": "code",
   "execution_count": 15,
   "metadata": {},
   "outputs": [],
   "source": [
    "import pandas as pd\n",
    "import os\n",
    "from os import listdir\n",
    "from os.path import isfile, join\n",
    "import re"
   ]
  },
  {
   "cell_type": "markdown",
   "metadata": {},
   "source": [
    "## Junção dos datasets\\"
   ]
  },
  {
   "cell_type": "code",
   "execution_count": 20,
   "metadata": {},
   "outputs": [
    {
     "name": "stdout",
     "output_type": "stream",
     "text": [
      "{'discentes': ['discentes-2012.csv', 'discentes-2017.csv', 'discentes-2013.csv', 'discentes-2010.csv', 'discentes-2018.csv', 'discentes-2014.csv', 'discentes-2015.csv', 'discentes-2016.csv', 'discentes-2009.csv', 'discentes-2011.csv'], 'emprestimos': ['emprestimos-20111.csv', 'emprestimos-20172.csv', 'emprestimos-20021.csv', 'emprestimos-20012.csv', 'emprestimos-20141.csv', 'emprestimos-20081.csv', 'emprestimos-20132.csv', 'emprestimos-20152.csv', 'emprestimos-20061.csv', 'emprestimos-20131.csv', 'emprestimos-20042.csv', 'emprestimos-20091.csv', 'emprestimos-20162.csv', 'emprestimos-20051.csv', 'emprestimos-20002.csv', 'emprestimos-20022.csv', 'emprestimos-20161.csv', 'emprestimos-20121.csv', 'emprestimos-20071.csv', 'emprestimos-20151.csv', 'emprestimos-20122.csv', 'emprestimos-20092.csv', 'emprestimos-20052.csv', 'emprestimos-20171.csv', 'emprestimos-20031.csv', 'emprestimos-20142.csv', 'emprestimos-20112.csv', 'emprestimos-20101.csv', 'emprestimos-20032.csv', 'emprestimos-20062.csv', 'emprestimos-20041.csv', 'emprestimos-20082.csv', 'emprestimos-20011.csv', 'emprestimos-20102.csv', 'emprestimos-20072.csv']}\n"
     ]
    }
   ],
   "source": [
    "# Arquivos da pasta de datasets\n",
    "files = listdir('data')\n",
    "# Regex para cada tipo de dataset que possui vários arquivos\n",
    "regex = {\n",
    "    'discentes': re.compile(r'discentes-20[0-9]{2}'),\n",
    "    'emprestimos': re.compile(r'emprestimos-20[0-9]{3}'),\n",
    "}\n",
    "# Filtros aplicados, lista de arquivos que satisfazem os regex\n",
    "files_filter = {\n",
    "    'discentes': list(filter(regex['discentes'].search, files)),\n",
    "    'emprestimos': list(filter(regex['emprestimos'].search, files)),\n",
    "}\n",
    "# Mostra ambas as listas de arquivos\n",
    "print(files_filter)"
   ]
  },
  {
   "cell_type": "code",
   "execution_count": null,
   "metadata": {},
   "outputs": [],
   "source": []
  }
 ],
 "metadata": {
  "kernelspec": {
   "display_name": "Python 3",
   "language": "python",
   "name": "python3"
  },
  "language_info": {
   "codemirror_mode": {
    "name": "ipython",
    "version": 3
   },
   "file_extension": ".py",
   "mimetype": "text/x-python",
   "name": "python",
   "nbconvert_exporter": "python",
   "pygments_lexer": "ipython3",
   "version": "3.7.0"
  }
 },
 "nbformat": 4,
 "nbformat_minor": 2
}
